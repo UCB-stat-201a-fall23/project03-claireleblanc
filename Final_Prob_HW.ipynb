{
 "cells": [
  {
   "cell_type": "markdown",
   "metadata": {},
   "source": [
    "# STAT 201A\n",
    "# Problem Set\n",
    "### Nov 20th"
   ]
  },
  {
   "cell_type": "markdown",
   "metadata": {},
   "source": [
    "**1. Simulation of Markov Process.**\n",
    "\n",
    "a) Write the Markove process in matrix representation.\n",
    "\n",
    "$$\n",
    "\\left(\\begin{array}{ccc} \n",
    "0.2 & 0.7 & 0.1\\\\\n",
    "0.2 & 0.5 & 0.3 \\\\\n",
    "0.2  & 0.4 & 0.4 \\\\\n",
    "\\end{array}\\right)\n",
    "$$ "
   ]
  },
  {
   "cell_type": "markdown",
   "metadata": {},
   "source": [
    "b) Simulate a single realization of the chain."
   ]
  },
  {
   "cell_type": "code",
   "execution_count": 5,
   "metadata": {},
   "outputs": [],
   "source": [
    "import numpy as np\n",
    "from numpy.linalg import matrix_power\n",
    "import matplotlib.pyplot as plt\n"
   ]
  },
  {
   "cell_type": "code",
   "execution_count": 7,
   "metadata": {},
   "outputs": [
    {
     "name": "stdout",
     "output_type": "stream",
     "text": [
      "[1. 2. 2. 2. 1. 3. 3. 3. 3. 3.]\n"
     ]
    }
   ],
   "source": [
    "def one_realization(i,matrix):\n",
    "    states = np.zeros(i)\n",
    "    states[0] = 1\n",
    "    state_curr = np.array([1,0,0])\n",
    "    state_dict = {1: [1,0,0], 2:[0,1,0], 3: [0,0,1]}\n",
    "    for j in range(0,i-1):\n",
    "        probs  = np.dot(state_curr, matrix)\n",
    "        state_curr = np.random.choice([1,2,3],p=probs)\n",
    "        states[j+1] = state_curr\n",
    "        state_curr = state_dict[state_curr]\n",
    "    return states\n",
    "\n",
    "i = 10\n",
    "matrix = np.array([[0.2,0.7,0.1],[0.2,0.5,0.3],[0.2,0.4,0.4]])\n",
    "\n",
    "realization = one_realization(i,matrix)\n",
    "print(realization)"
   ]
  },
  {
   "cell_type": "markdown",
   "metadata": {},
   "source": [
    "**2. Stationary distribution.**\n",
    "\n",
    "a) Calculate theorretically the stationary state of the process."
   ]
  },
  {
   "cell_type": "markdown",
   "metadata": {},
   "source": [
    "$$\n",
    "\\left(\\begin{array}{ccc} \n",
    "\\phi_1 & \\phi_2 & \\phi_3\\\\\n",
    "\\end{array}\\right) = \n",
    "\\left(\\begin{array}{ccc} \n",
    "\\phi_1 & \\phi_2 & \\phi_3\\\\\n",
    "\\end{array}\\right) \n",
    "\\left(\\begin{array}{ccc} \n",
    "0.2 & 0.7 & 0.1\\\\\n",
    "0.2 & 0.5 & 0.3 \\\\\n",
    "0.2  & 0.4 & 0.4 \\\\\n",
    "\\end{array}\\right)\n",
    "$$ \n",
    "\n",
    "$$\n",
    "=  \\left(\\begin{array}{ccc} \n",
    "0.2\\phi_1 + 0.2\\phi_2 + 0.2\\phi_3 & 0.7\\phi_1 + 0.5\\phi_2 + 0.3\\phi_3 &  0.1\\phi_1 + 0.3\\phi_2 + 0.4\\phi_3\\\\\\\n",
    "\\end{array}\\right)\n",
    "\\\n",
    "$$\n",
    "\n",
    "$$\n",
    "\\phi_1 = 0.2\\phi_1 + 0.2\\phi_2 + 0.2\\phi_3\n",
    "\\\n",
    "$$\n",
    "\n",
    "$$\n",
    "\\phi_2 = 0.7\\phi_1 + 0.5\\phi_2 + 0.3\\phi_3\n",
    "\\\n",
    "$$\n",
    "\n",
    "$$\n",
    "\\phi_3 = 0.1\\phi_1 + 0.3\\phi_2 + 0.4\\phi_3 \n",
    "\\\n",
    "$$\n",
    "\n",
    "\n",
    "$$\n",
    "\\\n",
    "0.8 \\phi_1 = 0.2\\phi_2 + 0.2\\phi_3 \\\\\n",
    "\\phi_1 = 0.25\\phi_2 + 0.25\\phi_3\n",
    "\\\n",
    "$$\n",
    "\n",
    "$$\n",
    "\\phi_2 = 0.7(0.25\\phi_2 + 0.25\\phi_3)+ 0.5\\phi_2 + 0.3\\phi_3  \\\\\n",
    "\\phi_2 = 0.675\\phi_2 + 0.575\\phi_3 \\\\\n",
    "0.325 \\phi_2 = 0.575\\phi_3 \\\\\n",
    "\\phi_2 = \\frac{0.575}{0.325}\\phi_3 \\\\\n",
    "\\\n",
    "$$\n",
    "\n",
    "$$\n",
    "\\phi_3 = 0.1(0.25\\phi_2 + 0.25\\phi_3) + 0.3\\phi_2 + 0.4\\phi_3 \\\\\n",
    "\\phi_3 = 0.025\\phi_2 + 0.025\\phi_3 + 0.3\\phi_2 + 0.4\\phi_3 \\\\\n",
    "\\phi_3 = 0.325\\phi_2 + 0.425\\phi_3 \\\\\n",
    "\\phi_3 = 0.325(\\frac{0.575}{0.325}\\phi_3) + 0.425\\phi_3 \\\\\n",
    "\\phi_3 = 0.575\\phi_3 + 0.425\\phi_3 \\\\\n",
    "\\phi_3 = \\phi_3 \\\\\n",
    "\\text{Let } \\phi_3=1 \\\\\n",
    "\\\n",
    "$$\n",
    "\n",
    "$$\n",
    "\\phi_2 = \\frac{0.575}{0.325}(1) = \\frac{23}{13} \\\\\n",
    "\\\n",
    "$$\n",
    "\n",
    "$$\n",
    "\\phi_1 = 0.25\\frac{23}{13} + 0.25(1) = \\frac{9}{13} \\\\\n",
    "\\\n",
    "$$\n",
    "\n",
    "\n"
   ]
  },
  {
   "cell_type": "markdown",
   "metadata": {},
   "source": [
    "b) Starting now from an inital probability $\\pi_0$ on the nodes, compute the value of $\\pi_i^T= \\pi_i^0 P^i$ the probability distribution at time i. Show that $\\pi_i \\rightarrow \\pi_{\\infty}$ and make a plot of $i$ vs. $||\\pi_i - \\pi_{\\infty}||_2^2$"
   ]
  },
  {
   "cell_type": "code",
   "execution_count": 7,
   "metadata": {},
   "outputs": [
    {
     "data": {
      "text/plain": [
       "array([0.2       , 0.51111111, 0.28888889])"
      ]
     },
     "execution_count": 7,
     "metadata": {},
     "output_type": "execute_result"
    }
   ],
   "source": [
    "def pi_at_i(starting_pi, i):\n",
    "    P = np.array([[0.2,0.7,0.1],[0.2,0.5,0.3],[0.2,0.4,0.4]])\n",
    "    P_i = matrix_power(P, i)\n",
    "    pi_i = np.dot(starting_pi, P_i)\n",
    "    return pi_i"
   ]
  },
  {
   "cell_type": "code",
   "execution_count": 84,
   "metadata": {},
   "outputs": [
    {
     "data": {
      "image/png": "[encoded data removed]",
      "text/plain": [
       "<Figure size 640x480 with 1 Axes>"
      ]
     },
     "metadata": {},
     "output_type": "display_data"
    }
   ],
   "source": [
    "inital_pi = [0,0,1]\n",
    "\n",
    "times  = np.arange(0,10,step=1)\n",
    "pi_inf = np.array([9/45,23/45,13/45])\n",
    "\n",
    "diff_norms_1 = []\n",
    "for time in times:\n",
    "    pi = pi_at_i(inital_pi,time)\n",
    "    diff = np.subtract(pi,pi_inf)\n",
    "    norm = np.sum(diff**2)\n",
    "    diff_norms_1.append(norm)\n",
    "\n",
    "\n",
    "plt.plot(times,diff_norms_1, label=\"$\\pi_0 = (0, 0, 1)$\")\n",
    "\n",
    "inital_pi = [0.9,.01,.09]\n",
    "diff_norms_2 = []\n",
    "for time in times:\n",
    "    pi = pi_at_i(inital_pi,time)\n",
    "    diff = np.subtract(pi,pi_inf)\n",
    "    norm = np.sum(diff**2)\n",
    "    diff_norms_2.append(norm)\n",
    "\n",
    "\n",
    "plt.plot(times,diff_norms_2, label=\"$\\pi_0 = (0.9, 0.01, 0.09)$\")\n",
    "\n",
    "plt.xlabel(\"time (i)\")\n",
    "plt.ylabel(\"$||\\pi_i -  \\pi_{\\infty}||_{2}^{2}$\")\n",
    "plt.legend()\n",
    "plt.show()"
   ]
  },
  {
   "cell_type": "markdown",
   "metadata": {},
   "source": [
    "**3)  Absorbing state.** \n",
    "\n",
    "a) Make a histogram  of arrival times starting from $X_1$ and $X_2$ and compute the means."
   ]
  },
  {
   "cell_type": "code",
   "execution_count": 88,
   "metadata": {},
   "outputs": [],
   "source": [
    "def one_realization_with_absorbing(matrix,i):\n",
    "    time = 0\n",
    "    state_dict = {1: [1,0,0], 2:[0,1,0], 3: [0,0,1]}\n",
    "    state_curr = state_dict[i]\n",
    "    while i != 3: \n",
    "        probs  = np.dot(state_curr, matrix)\n",
    "        i = np.random.choice([1,2,3],p=probs)\n",
    "        state_curr = state_dict[i]\n",
    "        time += 1\n",
    "    return time\n",
    "\n",
    "matrix = np.array([[0.2,0.7,0.1],[0.2,0.5,0.3],[0,0,1]])\n",
    "times_1 = [one_realization_with_absorbing(matrix,1) for _ in range(10000)]\n",
    "times_2 = [one_realization_with_absorbing(matrix,2) for _ in range(10000)]\n",
    "\n",
    "mean_1 = np.mean(times_1)\n",
    "mean_2 = np.mean(times_2)\n",
    "\n"
   ]
  },
  {
   "cell_type": "code",
   "execution_count": 89,
   "metadata": {},
   "outputs": [
    {
     "data": {
      "text/plain": [
       "Text(0.5, 0, 'Arrival Time')"
      ]
     },
     "execution_count": 89,
     "metadata": {},
     "output_type": "execute_result"
    },
    {
     "data": {
      "image/png": "[encoded data removed]",
      "text/plain": [
       "<Figure size 640x480 with 1 Axes>"
      ]
     },
     "metadata": {},
     "output_type": "display_data"
    }
   ],
   "source": [
    "plt.hist(times_1,label=f\"Starting at 1, mean ={mean_1}\",alpha=0.5,density=True,bins=20)\n",
    "plt.hist(times_2,label=f\"Starting at 2, mean={mean_2}\",alpha=0.5,density=True,bins=20)\n",
    "plt.legend()\n",
    "plt.xlabel(\"Arrival Time\")\n"
   ]
  },
  {
   "cell_type": "markdown",
   "metadata": {},
   "source": [
    "b) Compute theoretically the mean arrival time to the absorbing state and compare it with part a."
   ]
  },
  {
   "cell_type": "markdown",
   "metadata": {},
   "source": [
    "$\\mu_1 = 0$"
   ]
  },
  {
   "cell_type": "markdown",
   "metadata": {},
   "source": [
    "$\\mu_1 = 1 + p_{1 1} \\mu_1 + p_{1 2} \\mu_2 + p_{1 3}\\mu_3$\n",
    "\n",
    "$\\mu_1 = 1 +0.2 \\mu_1 + 0.7 \\mu_2 $\n",
    "\n",
    "$0.8\\mu_1 = 1 + 0.7 \\mu_2 \\\\$"
   ]
  },
  {
   "cell_type": "markdown",
   "metadata": {},
   "source": [
    "$\\mu_2 = 1 + p_{2 1} \\mu_1 + p_{2 2} \\mu_2 + p_{2 3}\\mu_3$\n",
    "\n",
    "$\\mu_2 = 1 +0.2 \\mu_1 + 0.5 \\mu_2 $\n",
    "\n",
    "$0.5\\mu_2 = 1 + 0.2 \\mu_1 $\n",
    "\n",
    "$\\mu_2 = 2 + 0.4 \\mu_1 $"
   ]
  },
  {
   "cell_type": "markdown",
   "metadata": {},
   "source": [
    "$0.8\\mu_1 = 1 + 0.7 (1 + 0.4 \\mu_1) $\n",
    "\n",
    "$0.8\\mu_1 = 1 + 1.4 + 0.28 \\mu_1 $\n",
    "\n",
    "$0.52\\mu_1 = 2.4 $\n",
    "\n",
    "$\\mu_1 = \\frac{60}{13} = 4.615... $"
   ]
  },
  {
   "cell_type": "markdown",
   "metadata": {},
   "source": [
    "$\\mu_2 = 2 + 0.4 \\frac{60}{13} $\n",
    "\n",
    "$\\mu_2 = \\frac{50}{13} = 3.846... $\n"
   ]
  },
  {
   "cell_type": "markdown",
   "metadata": {},
   "source": [
    "These are very similar to the simulation means."
   ]
  }
 ],
 "metadata": {
  "kernelspec": {
   "display_name": "base",
   "language": "python",
   "name": "python3"
  },
  "language_info": {
   "codemirror_mode": {
    "name": "ipython",
    "version": 3
   },
   "file_extension": ".py",
   "mimetype": "text/x-python",
   "name": "python",
   "nbconvert_exporter": "python",
   "pygments_lexer": "ipython3",
   "version": "3.9.18"
  }
 },
 "nbformat": 4,
 "nbformat_minor": 2
}
